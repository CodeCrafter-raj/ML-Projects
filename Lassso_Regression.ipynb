{
 "cells": [
  {
   "cell_type": "code",
   "execution_count": 1,
   "id": "60d23616",
   "metadata": {},
   "outputs": [],
   "source": [
    "import numpy as np\n",
    "import pandas as pd\n",
    "from sklearn.model_selection import train_test_split\n",
    "from sklearn.metrics import r2_score\n",
    "from sklearn.metrics import mean_squared_error\n",
    "from sklearn.metrics import mean_absolute_error\n",
    "from sklearn.linear_model import Lasso\n",
    "from sklearn.metrics import accuracy_score"
   ]
  },
  {
   "cell_type": "code",
   "execution_count": 2,
   "id": "4a3856eb",
   "metadata": {},
   "outputs": [],
   "source": [
    "df = pd.read_csv(\"data202.csv\")"
   ]
  },
  {
   "cell_type": "code",
   "execution_count": 3,
   "id": "4cfea33a",
   "metadata": {},
   "outputs": [],
   "source": [
    "dum2 = pd.get_dummies(df['plot'])\n",
    "dum3 = pd.get_dummies(df['mitti'])\n",
    "dum4 = pd.get_dummies(df['plant'])"
   ]
  },
  {
   "cell_type": "code",
   "execution_count": 4,
   "id": "f2af995e",
   "metadata": {},
   "outputs": [],
   "source": [
    "merg = pd.concat([df, dum2, dum3, dum4], axis='columns')\n",
    "final = merg.drop(['plot', 'mitti', 'plant'], axis='columns')"
   ]
  },
  {
   "cell_type": "code",
   "execution_count": 5,
   "id": "b1e1a8a0",
   "metadata": {},
   "outputs": [],
   "source": [
    "final.fillna(final.mean(), inplace=True)\n",
    "final.replace([np.inf, -np.inf], np.finfo(np.float32).max, inplace=True)"
   ]
  },
  {
   "cell_type": "code",
   "execution_count": 6,
   "id": "6994ba11",
   "metadata": {},
   "outputs": [],
   "source": [
    "X_train, X_test, y_train, y_test = train_test_split(final.drop('pro', axis='columns'), final['pro'], test_size=0.3, random_state=42)"
   ]
  },
  {
   "cell_type": "code",
   "execution_count": 7,
   "id": "7c728b5d",
   "metadata": {},
   "outputs": [],
   "source": [
    "lasso = Lasso(alpha=0.1)  # You can adjust the alpha parameter for regularization strength"
   ]
  },
  {
   "cell_type": "code",
   "execution_count": 8,
   "id": "18130dda",
   "metadata": {},
   "outputs": [
    {
     "name": "stderr",
     "output_type": "stream",
     "text": [
      "C:\\ProgramData\\Anaconda3\\lib\\site-packages\\sklearn\\linear_model\\_coordinate_descent.py:647: ConvergenceWarning: Objective did not converge. You might want to increase the number of iterations, check the scale of the features or consider increasing regularisation. Duality gap: 3.020e+07, tolerance: 9.391e+05\n",
      "  model = cd_fast.enet_coordinate_descent(\n"
     ]
    },
    {
     "data": {
      "text/plain": [
       "Lasso(alpha=0.1)"
      ]
     },
     "execution_count": 8,
     "metadata": {},
     "output_type": "execute_result"
    }
   ],
   "source": [
    "# Fit the Lasso model on the training data\n",
    "lasso.fit(X_train, y_train)"
   ]
  },
  {
   "cell_type": "code",
   "execution_count": 9,
   "id": "cca82137",
   "metadata": {},
   "outputs": [],
   "source": [
    "# Make predictions on the test data\n",
    "y_pred = lasso.predict(X_test)"
   ]
  },
  {
   "cell_type": "code",
   "execution_count": 10,
   "id": "a6c2f0c8",
   "metadata": {},
   "outputs": [],
   "source": [
    "# Calculate accuracy (if applicable)\n",
    "# Accuracy is not applicable for regression tasks, as it's used for classification problems"
   ]
  },
  {
   "cell_type": "code",
   "execution_count": 11,
   "id": "01e16669",
   "metadata": {},
   "outputs": [],
   "source": [
    "# Calculate R2 score\n",
    "r2 = r2_score(y_test, y_pred)"
   ]
  },
  {
   "cell_type": "code",
   "execution_count": 12,
   "id": "a02e58c3",
   "metadata": {},
   "outputs": [],
   "source": [
    "# Calculate adjusted R2 score\n",
    "n = X_test.shape[0]  # Number of samples\n",
    "p = X_test.shape[1]  # Number of features\n",
    "adj_r2 = 1 - (1 - r2) * (n - 1) / (n - p - 1)"
   ]
  },
  {
   "cell_type": "code",
   "execution_count": 13,
   "id": "01c8b7f2",
   "metadata": {},
   "outputs": [
    {
     "name": "stdout",
     "output_type": "stream",
     "text": [
      "R2 Score: 0.8307512705897294\n",
      "Adjusted R2 Score: 0.7550775598437911\n"
     ]
    }
   ],
   "source": [
    "# Print the results\n",
    "print(\"R2 Score:\", r2)\n",
    "print(\"Adjusted R2 Score:\", adj_r2)"
   ]
  },
  {
   "cell_type": "code",
   "execution_count": null,
   "id": "551d7245",
   "metadata": {},
   "outputs": [],
   "source": []
  }
 ],
 "metadata": {
  "kernelspec": {
   "display_name": "Python 3 (ipykernel)",
   "language": "python",
   "name": "python3"
  },
  "language_info": {
   "codemirror_mode": {
    "name": "ipython",
    "version": 3
   },
   "file_extension": ".py",
   "mimetype": "text/x-python",
   "name": "python",
   "nbconvert_exporter": "python",
   "pygments_lexer": "ipython3",
   "version": "3.9.13"
  }
 },
 "nbformat": 4,
 "nbformat_minor": 5
}
