{
 "cells": [
  {
   "cell_type": "code",
   "execution_count": 1,
   "id": "3cd29c4c",
   "metadata": {},
   "outputs": [],
   "source": [
    "import numpy as np\n",
    "import pandas as pd\n",
    "from sklearn.model_selection import train_test_split\n",
    "from lightgbm import LGBMRegressor\n",
    "from sklearn.metrics import r2_score\n",
    "from sklearn.metrics import mean_squared_error\n",
    "from sklearn.metrics import mean_absolute_error"
   ]
  },
  {
   "cell_type": "code",
   "execution_count": 2,
   "id": "d115f963",
   "metadata": {},
   "outputs": [],
   "source": [
    "df = pd.read_csv(\"data202.csv\")"
   ]
  },
  {
   "cell_type": "code",
   "execution_count": 8,
   "id": "4f1eef78",
   "metadata": {},
   "outputs": [],
   "source": [
    "dum2 = pd.get_dummies(df['plot'], prefix='plot')\n",
    "dum3 = pd.get_dummies(df['mitti'], prefix='mitti')\n",
    "dum4 = pd.get_dummies(df['plant'], prefix='plant')"
   ]
  },
  {
   "cell_type": "code",
   "execution_count": 9,
   "id": "86a5727b",
   "metadata": {},
   "outputs": [],
   "source": [
    "merg = pd.concat([df, dum2, dum3, dum4], axis='columns')\n",
    "final = merg.drop(['plot', 'mitti', 'plant'], axis='columns')"
   ]
  },
  {
   "cell_type": "code",
   "execution_count": 10,
   "id": "9b209e2a",
   "metadata": {},
   "outputs": [],
   "source": [
    "final.fillna(final.mean(), inplace=True)\n",
    "final.replace([np.inf, -np.inf], np.finfo(np.float32).max, inplace=True)"
   ]
  },
  {
   "cell_type": "code",
   "execution_count": 11,
   "id": "fd72bbad",
   "metadata": {},
   "outputs": [],
   "source": [
    "X_train, X_test, y_train, y_test = train_test_split(final.drop('pro', axis='columns'), final['pro'], test_size=0.3, random_state=42)"
   ]
  },
  {
   "cell_type": "code",
   "execution_count": 12,
   "id": "97073ce0",
   "metadata": {},
   "outputs": [
    {
     "data": {
      "text/plain": [
       "LGBMRegressor()"
      ]
     },
     "execution_count": 12,
     "metadata": {},
     "output_type": "execute_result"
    }
   ],
   "source": [
    "# Train the LightGBM model\n",
    "lgbm_reg = LGBMRegressor()\n",
    "lgbm_reg.fit(X_train, y_train)"
   ]
  },
  {
   "cell_type": "code",
   "execution_count": 13,
   "id": "e5ec70df",
   "metadata": {},
   "outputs": [],
   "source": [
    "# Predict on the test set\n",
    "y_pred = lgbm_reg.predict(X_test)"
   ]
  },
  {
   "cell_type": "code",
   "execution_count": 14,
   "id": "55d64cd5",
   "metadata": {},
   "outputs": [],
   "source": [
    "# Calculate metrics\n",
    "accuracy = lgbm_reg.score(X_test, y_test)\n",
    "mse = mean_squared_error(y_test, y_pred)\n",
    "mae = mean_absolute_error(y_test, y_pred)\n",
    "r2 = r2_score(y_test, y_pred)"
   ]
  },
  {
   "cell_type": "code",
   "execution_count": 15,
   "id": "599c9fb3",
   "metadata": {},
   "outputs": [],
   "source": [
    "# Calculate adjusted R2 score\n",
    "n = X_test.shape[0]\n",
    "p = X_test.shape[1]\n",
    "adjusted_r2 = 1 - ((1 - r2) * (n - 1) / (n - p - 1))"
   ]
  },
  {
   "cell_type": "code",
   "execution_count": 16,
   "id": "93823a49",
   "metadata": {},
   "outputs": [
    {
     "name": "stdout",
     "output_type": "stream",
     "text": [
      "Accuracy: 0.7696490105872547\n",
      "Mean Squared Error: 1412748.355414466\n",
      "Mean Absolute Error: 753.9347925108309\n",
      "R2 Score: 0.7696490105872547\n",
      "Adjusted R2 Score: 0.6666555393594407\n"
     ]
    }
   ],
   "source": [
    "print(\"Accuracy:\", accuracy)\n",
    "print(\"Mean Squared Error:\", mse)\n",
    "print(\"Mean Absolute Error:\", mae)\n",
    "print(\"R2 Score:\", r2)\n",
    "print(\"Adjusted R2 Score:\", adjusted_r2)"
   ]
  },
  {
   "cell_type": "code",
   "execution_count": null,
   "id": "fa1f4cef",
   "metadata": {},
   "outputs": [],
   "source": []
  }
 ],
 "metadata": {
  "kernelspec": {
   "display_name": "Python 3 (ipykernel)",
   "language": "python",
   "name": "python3"
  },
  "language_info": {
   "codemirror_mode": {
    "name": "ipython",
    "version": 3
   },
   "file_extension": ".py",
   "mimetype": "text/x-python",
   "name": "python",
   "nbconvert_exporter": "python",
   "pygments_lexer": "ipython3",
   "version": "3.9.13"
  }
 },
 "nbformat": 4,
 "nbformat_minor": 5
}
