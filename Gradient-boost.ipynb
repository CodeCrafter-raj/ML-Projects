{
 "cells": [
  {
   "cell_type": "code",
   "execution_count": 2,
   "id": "327ffe7f",
   "metadata": {},
   "outputs": [],
   "source": [
    "import numpy as np\n",
    "import pandas as pd"
   ]
  },
  {
   "cell_type": "code",
   "execution_count": 3,
   "id": "98eb9e36",
   "metadata": {},
   "outputs": [],
   "source": [
    "from sklearn.ensemble import GradientBoostingRegressor\n",
    "from sklearn.model_selection import train_test_split\n",
    "from sklearn.metrics import mean_squared_error, r2_score\n",
    "from sklearn.datasets import make_regression\n",
    "#from sklearn.datasets import load_boston\n",
    "from sklearn.metrics import mean_absolute_error"
   ]
  },
  {
   "cell_type": "code",
   "execution_count": 4,
   "id": "7e25b699",
   "metadata": {},
   "outputs": [],
   "source": [
    "df = pd.read_csv(\"data202.csv\")"
   ]
  },
  {
   "cell_type": "code",
   "execution_count": 5,
   "id": "205c4bd8",
   "metadata": {},
   "outputs": [
    {
     "name": "stdout",
     "output_type": "stream",
     "text": [
      "Index(['degree', 'water', 'plot', 'mitti', 'N', 'P', 'K', 'ph', 'plant',\n",
      "       'pro'],\n",
      "      dtype='object')\n"
     ]
    }
   ],
   "source": [
    "print(df.columns)"
   ]
  },
  {
   "cell_type": "code",
   "execution_count": 6,
   "id": "06f25a05",
   "metadata": {},
   "outputs": [],
   "source": [
    "dum2 = pd.get_dummies(df['plot'])\n",
    "dum3 = pd.get_dummies(df['mitti'])\n",
    "dum4 = pd.get_dummies(df['plant'])"
   ]
  },
  {
   "cell_type": "code",
   "execution_count": 7,
   "id": "8ba9546b",
   "metadata": {},
   "outputs": [],
   "source": [
    "merg = pd.concat([df, dum2, dum3, dum4], axis='columns')\n",
    "final = merg.drop(['plot', 'mitti', 'plant'], axis='columns')"
   ]
  },
  {
   "cell_type": "code",
   "execution_count": 8,
   "id": "4761ca02",
   "metadata": {},
   "outputs": [],
   "source": [
    "final.fillna(final.mean(), inplace=True)"
   ]
  },
  {
   "cell_type": "code",
   "execution_count": 9,
   "id": "dc33b932",
   "metadata": {},
   "outputs": [],
   "source": [
    "final.replace([np.inf, -np.inf], np.finfo(np.float32).max, inplace=True)"
   ]
  },
  {
   "cell_type": "code",
   "execution_count": 10,
   "id": "1bbadd27",
   "metadata": {},
   "outputs": [],
   "source": [
    "X = df.iloc[:,:-1]\n",
    "y=df.iloc[:,-1]"
   ]
  },
  {
   "cell_type": "code",
   "execution_count": 11,
   "id": "83f14fc9",
   "metadata": {},
   "outputs": [],
   "source": [
    "X_train, X_test, y_train, y_test = train_test_split(final.drop('pro', axis='columns'), final['pro'], test_size=0.3, random_state=42)"
   ]
  },
  {
   "cell_type": "markdown",
   "id": "a8c306e3",
   "metadata": {},
   "source": [
    "# model training and evaluation"
   ]
  },
  {
   "cell_type": "code",
   "execution_count": 12,
   "id": "11f83e7d",
   "metadata": {},
   "outputs": [],
   "source": [
    "# Calculate the accuracy (in this case, using mean squared error)\n",
    "#mse = mean_squared_error(y_test, y_pred)\n",
    "#accuracy = 1 - mse\n",
    "\n",
    "#print(f\"Accuracy: {accuracy}\")"
   ]
  },
  {
   "cell_type": "code",
   "execution_count": 13,
   "id": "d5362651",
   "metadata": {},
   "outputs": [],
   "source": [
    "gradientregressor = GradientBoostingRegressor(max_depth=10,n_estimators=20,learning_rate=0.5)"
   ]
  },
  {
   "cell_type": "code",
   "execution_count": 14,
   "id": "139a6849",
   "metadata": {},
   "outputs": [],
   "source": [
    "#Train gradient boosting regressor\n",
    "model=gradientregressor.fit(X_train , y_train)"
   ]
  },
  {
   "cell_type": "code",
   "execution_count": 15,
   "id": "e653c335",
   "metadata": {},
   "outputs": [],
   "source": [
    "y_pred = model.predict(X_test)"
   ]
  },
  {
   "cell_type": "code",
   "execution_count": 16,
   "id": "2f9dc1e8",
   "metadata": {},
   "outputs": [
    {
     "data": {
      "text/plain": [
       "0.9234455364170965"
      ]
     },
     "execution_count": 16,
     "metadata": {},
     "output_type": "execute_result"
    }
   ],
   "source": [
    "r2_score(y_pred,y_test)"
   ]
  },
  {
   "cell_type": "code",
   "execution_count": 17,
   "id": "a20b8650",
   "metadata": {},
   "outputs": [],
   "source": [
    "import matplotlib.pyplot as plt\n",
    "%matplotlib inline"
   ]
  },
  {
   "cell_type": "code",
   "execution_count": 18,
   "id": "03bbc307",
   "metadata": {},
   "outputs": [],
   "source": [
    "#plot feature importance\n",
    "feature_importance =  model.feature_importances_\n",
    "\n"
   ]
  },
  {
   "cell_type": "code",
   "execution_count": 19,
   "id": "ce1b8cfd",
   "metadata": {},
   "outputs": [
    {
     "ename": "NameError",
     "evalue": "name 'data202' is not defined",
     "output_type": "error",
     "traceback": [
      "\u001b[1;31m---------------------------------------------------------------------------\u001b[0m",
      "\u001b[1;31mNameError\u001b[0m                                 Traceback (most recent call last)",
      "\u001b[1;32m~\\AppData\\Local\\Temp\\ipykernel_8232\\2006017523.py\u001b[0m in \u001b[0;36m<module>\u001b[1;34m\u001b[0m\n\u001b[0;32m      4\u001b[0m \u001b[0mpos\u001b[0m\u001b[1;33m=\u001b[0m\u001b[0mnp\u001b[0m\u001b[1;33m.\u001b[0m\u001b[0marange\u001b[0m\u001b[1;33m(\u001b[0m\u001b[0msorted_idx\u001b[0m\u001b[1;33m.\u001b[0m\u001b[0mshape\u001b[0m\u001b[1;33m[\u001b[0m\u001b[1;36m0\u001b[0m\u001b[1;33m]\u001b[0m\u001b[1;33m)\u001b[0m\u001b[1;33m+\u001b[0m\u001b[1;36m.5\u001b[0m\u001b[1;33m\u001b[0m\u001b[1;33m\u001b[0m\u001b[0m\n\u001b[0;32m      5\u001b[0m \u001b[0mplt\u001b[0m\u001b[1;33m.\u001b[0m\u001b[0mbarh\u001b[0m\u001b[1;33m(\u001b[0m\u001b[0mpos\u001b[0m\u001b[1;33m,\u001b[0m\u001b[0mfeature_importance\u001b[0m\u001b[1;33m[\u001b[0m\u001b[0msorted_idx\u001b[0m\u001b[1;33m]\u001b[0m\u001b[1;33m,\u001b[0m\u001b[0malign\u001b[0m\u001b[1;33m=\u001b[0m\u001b[1;34m'center'\u001b[0m\u001b[1;33m)\u001b[0m\u001b[1;33m\u001b[0m\u001b[1;33m\u001b[0m\u001b[0m\n\u001b[1;32m----> 6\u001b[1;33m \u001b[0mplt\u001b[0m\u001b[1;33m.\u001b[0m\u001b[0myticks\u001b[0m\u001b[1;33m(\u001b[0m\u001b[0mpos\u001b[0m\u001b[1;33m,\u001b[0m\u001b[0mdata202\u001b[0m\u001b[1;33m.\u001b[0m\u001b[0mfeature_names\u001b[0m\u001b[1;33m[\u001b[0m\u001b[0msoretd_idx\u001b[0m\u001b[1;33m]\u001b[0m\u001b[1;33m)\u001b[0m\u001b[1;33m\u001b[0m\u001b[1;33m\u001b[0m\u001b[0m\n\u001b[0m\u001b[0;32m      7\u001b[0m \u001b[0mplt\u001b[0m\u001b[1;33m.\u001b[0m\u001b[0mxlabel\u001b[0m\u001b[1;33m(\u001b[0m\u001b[1;34m'Relative Importance'\u001b[0m\u001b[1;33m)\u001b[0m\u001b[1;33m\u001b[0m\u001b[1;33m\u001b[0m\u001b[0m\n\u001b[0;32m      8\u001b[0m \u001b[0mplt\u001b[0m\u001b[1;33m.\u001b[0m\u001b[0mtitle\u001b[0m\u001b[1;33m(\u001b[0m\u001b[1;34m'Variable Importance'\u001b[0m\u001b[1;33m)\u001b[0m\u001b[1;33m\u001b[0m\u001b[1;33m\u001b[0m\u001b[0m\n",
      "\u001b[1;31mNameError\u001b[0m: name 'data202' is not defined"
     ]
    },
    {
     "data": {
      "image/png": "[encoded data removed]",
      "text/plain": [
       "<Figure size 640x480 with 1 Axes>"
      ]
     },
     "metadata": {},
     "output_type": "display_data"
    }
   ],
   "source": [
    "#make importances  relative to max importance\n",
    "feature_importance =100.0*(feature_importance / feature_importance.max())\n",
    "sorted_idx = np.argsort(feature_importance)\n",
    "pos=np.arange(sorted_idx.shape[0])+.5\n",
    "plt.barh(pos,feature_importance[sorted_idx],align='center')\n",
    "plt.yticks(pos,data202.feature_names[soretd_idx])\n",
    "plt.xlabel('Relative Importance')\n",
    "plt.title('Variable Importance')\n",
    "plt.show()"
   ]
  },
  {
   "cell_type": "code",
   "execution_count": 20,
   "id": "13c6fc36",
   "metadata": {},
   "outputs": [
    {
     "data": {
      "text/plain": [
       "({'learning_rate': 0.5, 'n_estimators': 25}, 0.8003315502567061)"
      ]
     },
     "execution_count": 20,
     "metadata": {},
     "output_type": "execute_result"
    }
   ],
   "source": [
    "from sklearn.model_selection import GridSearchCV\n",
    "from sklearn.ensemble import GradientBoostingRegressor\n",
    "\n",
    "LR = {'learning_rate': [0.15, 0.1, 0.10, 0.5, 1.0], 'n_estimators': [5, 10, 15, 20, 25]}\n",
    "\n",
    "tuning = GridSearchCV(estimator=GradientBoostingRegressor(), param_grid=LR, scoring=\"r2\")\n",
    "\n",
    "tuning.fit(X_train, y_train)\n",
    "tuning.best_params_, tuning.best_score_\n"
   ]
  },
  {
   "cell_type": "code",
   "execution_count": 21,
   "id": "b378c179",
   "metadata": {},
   "outputs": [],
   "source": [
    "mse=mean_squared_error(y_test,y_pred)"
   ]
  },
  {
   "cell_type": "code",
   "execution_count": 22,
   "id": "21f25dd6",
   "metadata": {},
   "outputs": [
    {
     "name": "stdout",
     "output_type": "stream",
     "text": [
      "425612.342733683\n"
     ]
    }
   ],
   "source": [
    "print(mse)"
   ]
  },
  {
   "cell_type": "code",
   "execution_count": 23,
   "id": "e15b113b",
   "metadata": {},
   "outputs": [
    {
     "name": "stdout",
     "output_type": "stream",
     "text": [
      "Accuracy: -425611.342733683\n"
     ]
    }
   ],
   "source": [
    "# Calculate the accuracy (in this case, using mean squared error)\n",
    "mse = mean_squared_error(y_test, y_pred)\n",
    "accuracy = 1 - mse\n",
    "\n",
    "print(f\"Accuracy: {accuracy}\")"
   ]
  },
  {
   "cell_type": "markdown",
   "id": "d45d3eb4",
   "metadata": {},
   "source": [
    "# Overall Assessment: While the MSE is relatively high, the high R2 score indicates that the model still performs well in explaining the variance in the data. It suggests that the model can make accurate predictions despite the presence of some prediction errors. However, it is important to note that the interpretation of MSE and R2 score also depends on the specific context and the range of the target variable. It is advisable to compare these metrics with baseline models or other evaluation metrics to gain a more comprehensive understanding of the model's performance."
   ]
  },
  {
   "cell_type": "code",
   "execution_count": 24,
   "id": "859ba055",
   "metadata": {},
   "outputs": [
    {
     "name": "stdout",
     "output_type": "stream",
     "text": [
      "Root Mean Squared Error (RMSE): 652.3897169128917\n",
      "Mean Absolute Error (MAE): 379.3873333527465\n"
     ]
    }
   ],
   "source": [
    "# Calculate Mean Squared Error (MSE)\n",
    "#mse = mean_squared_error(y_test, y_pred)\n",
    "\n",
    "# Calculate Root Mean Squared Error (RMSE)\n",
    "rmse = mean_squared_error(y_test, y_pred, squared=False)\n",
    "\n",
    "# Calculate Mean Absolute Error (MAE)\n",
    "mae = mean_absolute_error(y_test, y_pred)\n",
    "\n",
    "# Print the evaluation metrics\n",
    "#print(\"Mean Squared Error (MSE):\", mse)\n",
    "print(\"Root Mean Squared Error (RMSE):\", rmse)\n",
    "print(\"Mean Absolute Error (MAE):\", mae)"
   ]
  },
  {
   "cell_type": "markdown",
   "id": "b439bdcf",
   "metadata": {},
   "source": [
    "# CALCULATION OF R2 SCORE"
   ]
  },
  {
   "cell_type": "code",
   "execution_count": 27,
   "id": "94c858b1",
   "metadata": {},
   "outputs": [
    {
     "name": "stdout",
     "output_type": "stream",
     "text": [
      "R2 Score: 0.9306031934992288\n"
     ]
    }
   ],
   "source": [
    "# Calculate the R2 score\n",
    "r2 = r2_score(y_test, y_pred)\n",
    "print(\"R2 Score:\", r2)"
   ]
  },
  {
   "cell_type": "markdown",
   "id": "0e465ee6",
   "metadata": {},
   "source": [
    "# calculation of adjusted r2 score"
   ]
  },
  {
   "cell_type": "markdown",
   "id": "3e105e6c",
   "metadata": {},
   "source": [
    "# where n is the number of samples and p is the number of features in the test set."
   ]
  },
  {
   "cell_type": "code",
   "execution_count": 28,
   "id": "fabe9323",
   "metadata": {},
   "outputs": [
    {
     "name": "stdout",
     "output_type": "stream",
     "text": [
      "Adjusted R2 Score: 0.899574813669557\n"
     ]
    }
   ],
   "source": [
    "# Calculate the adjusted R2 score\n",
    "n = len(X_test)  # Number of samples\n",
    "p = X_test.shape[1]  # Number of features\n",
    "adjusted_r2 = 1 - (1 - r2) * (n - 1) / (n - p - 1)\n",
    "print(\"Adjusted R2 Score:\", adjusted_r2)"
   ]
  },
  {
   "cell_type": "code",
   "execution_count": 29,
   "id": "760fc2d2",
   "metadata": {},
   "outputs": [
    {
     "name": "stdout",
     "output_type": "stream",
     "text": [
      "Mean Absolute Error: 379.3873333527465\n"
     ]
    }
   ],
   "source": [
    "# Calculate the mean absolute error\n",
    "mae = mean_absolute_error(y_test, y_pred)\n",
    "print(\"Mean Absolute Error:\", mae)"
   ]
  },
  {
   "cell_type": "markdown",
   "id": "ec0f1037",
   "metadata": {},
   "source": [
    "CALCULATION OF ACCUARCY\n"
   ]
  },
  {
   "cell_type": "code",
   "execution_count": 30,
   "id": "6a94ceac",
   "metadata": {},
   "outputs": [
    {
     "name": "stdout",
     "output_type": "stream",
     "text": [
      "Accuracy: 0.9306031934992288\n"
     ]
    }
   ],
   "source": [
    "# Calculate the accuracy (optional for regression)\n",
    "accuracy = model.score(X_test, y_test)\n",
    "print(\"Accuracy:\", accuracy)"
   ]
  },
  {
   "cell_type": "code",
   "execution_count": null,
   "id": "f56e1124",
   "metadata": {},
   "outputs": [],
   "source": []
  }
 ],
 "metadata": {
  "kernelspec": {
   "display_name": "Python 3 (ipykernel)",
   "language": "python",
   "name": "python3"
  },
  "language_info": {
   "codemirror_mode": {
    "name": "ipython",
    "version": 3
   },
   "file_extension": ".py",
   "mimetype": "text/x-python",
   "name": "python",
   "nbconvert_exporter": "python",
   "pygments_lexer": "ipython3",
   "version": "3.9.13"
  }
 },
 "nbformat": 4,
 "nbformat_minor": 5
}
